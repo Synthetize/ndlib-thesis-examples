{
 "cells": [
  {
   "cell_type": "code",
   "id": "initial_id",
   "metadata": {
    "collapsed": true,
    "ExecuteTime": {
     "end_time": "2024-05-02T12:14:12.962976Z",
     "start_time": "2024-05-02T12:14:12.449589Z"
    }
   },
   "source": [
    "import networkx as nx\n",
    "import ndlib.models.epidemics as ep\n",
    "import ndlib.models.ModelConfig as mc\n",
    "from ndlib.viz.mpl.DiffusionTrend import DiffusionTrend\n",
    "from ndlib.viz.mpl.DiffusionPrevalence import DiffusionPrevalence\n",
    "from ndlib.viz.bokeh.MultiPlot import MultiPlot\n",
    "from ndlib.viz.mpl.TrendComparison import DiffusionTrendComparison\n",
    "from ndlib.viz.mpl.PrevalenceComparison import DiffusionPrevalenceComparison\n",
    "\n",
    "#SIR\n",
    "g = nx.erdos_renyi_graph(1000, 0.1)\n",
    "sir_model = ep.SIRModel(g)\n",
    "cfg = mc.Configuration()\n",
    "cfg.add_model_parameter('beta', 0.001) # infection rate\n",
    "cfg.add_model_parameter('gamma', 0.01) # recovery rate\n",
    "cfg.add_model_parameter(\"percentage_infected\", 0.01)\n",
    "sir_model.set_initial_status(cfg)\n",
    "sir_iterations = sir_model.iteration_bunch(50)\n",
    "sir_trends = sir_model.build_trends(sir_iterations)\n",
    "\n",
    "\n",
    "#SI\n",
    "si_model = ep.SIModel(g)\n",
    "config = mc.Configuration()\n",
    "config.add_model_parameter('beta', 0.001)\n",
    "config.add_model_parameter(\"fraction_infected\", 0.05)\n",
    "si_model.set_initial_status(config)\n",
    "si_iterations = si_model.iteration_bunch(50)\n",
    "si_trends = si_model.build_trends(si_iterations)\n",
    "\n",
    "\n",
    "viz = DiffusionTrendComparison([si_model,sir_model], [si_trends,sir_trends], [\"Susceptible\", \"Infected\"]) #Solo gli stati in comune tra i due modelli\n",
    "viz.plot('visualization/trend_comparison.png')\n",
    "\n",
    "viz = DiffusionPrevalenceComparison([si_model,sir_model], [si_trends,sir_trends], [\"Susceptible\", \"Infected\"])\n",
    "viz.plot('visualization/prevalence_comparison.png')\n",
    "# sir_dt = DiffusionTrend(sir_model, sir_trends)\n",
    "# si_dt = DiffusionTrend(si_model, si_trends)\n",
    "# \n",
    "# %matplotlib inline\n",
    "# trend_plot = MultiPlot()\n",
    "# trend_plot.add_plot(sir_dt.plot())\n",
    "# trend_plot.add_plot(si_dt.plot())\n",
    "# trend_plot.plot()\n",
    "\n",
    "'''\n",
    "Multiplot solo con bokeh provider\n",
    "'''\n",
    "\n"
   ],
   "outputs": [
    {
     "data": {
      "text/plain": [
       "'\\nMultiplot solo con bokeh provider\\n'"
      ]
     },
     "execution_count": 45,
     "metadata": {},
     "output_type": "execute_result"
    }
   ],
   "execution_count": 45
  },
  {
   "metadata": {},
   "cell_type": "code",
   "outputs": [],
   "execution_count": 2,
   "source": "",
   "id": "cb6120116da3e35a"
  },
  {
   "metadata": {},
   "cell_type": "code",
   "outputs": [],
   "execution_count": null,
   "source": "",
   "id": "59fa0a12a39c950c"
  }
 ],
 "metadata": {
  "kernelspec": {
   "display_name": "Python 3",
   "language": "python",
   "name": "python3"
  },
  "language_info": {
   "codemirror_mode": {
    "name": "ipython",
    "version": 2
   },
   "file_extension": ".py",
   "mimetype": "text/x-python",
   "name": "python",
   "nbconvert_exporter": "python",
   "pygments_lexer": "ipython2",
   "version": "2.7.6"
  }
 },
 "nbformat": 4,
 "nbformat_minor": 5
}
