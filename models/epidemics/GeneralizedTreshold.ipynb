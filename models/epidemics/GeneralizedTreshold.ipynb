{
 "cells": [
  {
   "cell_type": "code",
   "id": "initial_id",
   "metadata": {
    "collapsed": true,
    "ExecuteTime": {
     "end_time": "2024-04-15T14:22:19.883486Z",
     "start_time": "2024-04-15T14:22:16.042201Z"
    }
   },
   "source": [
    "import networkx as nx\n",
    "import ndlib.models.ModelConfig as mc\n",
    "import ndlib.models.epidemics as ep\n",
    "from ndlib.viz.mpl.DiffusionTrend import DiffusionTrend\n",
    "from ndlib.viz.mpl.DiffusionPrevalence import DiffusionPrevalence\n",
    "\n",
    "# Network topology\n",
    "g = nx.erdos_renyi_graph(1000, 0.1)\n",
    "\n",
    "# Model selection\n",
    "model = ep.GeneralisedThresholdModel(g)\n",
    "\n",
    "# Model Configuration\n",
    "config = mc.Configuration()\n",
    "config.add_model_parameter('fraction_infected', 0.1)\n",
    "config.add_model_parameter('tau', 5)\n",
    "config.add_model_parameter('mu', 5)\n",
    "\n",
    "# Setting node parameters\n",
    "threshold = 0.25\n",
    "for i in g.nodes():\n",
    "    config.add_node_configuration(\"threshold\", i, threshold)\n",
    "\n",
    "model.set_initial_status(config)\n",
    "\n",
    "# Simulation execution\n",
    "iterations = model.iteration_bunch(200)\n",
    "trends = model.build_trends(iterations)\n",
    "\n",
    "# %matplotlib inline\n",
    "# viz = DiffusionTrend(model, trends)\n",
    "# viz.plot()\n",
    "# viz = DiffusionPrevalence(model, trends)\n",
    "# viz.plot()"
   ],
   "outputs": [
    {
     "name": "stdout",
     "output_type": "stream",
     "text": [
      "no display found. Using non-interactive Agg backend\n"
     ]
    },
    {
     "ename": "TypeError",
     "evalue": "tuple indices must be integers or slices, not str",
     "output_type": "error",
     "traceback": [
      "\u001B[1;31m---------------------------------------------------------------------------\u001B[0m",
      "\u001B[1;31mTypeError\u001B[0m                                 Traceback (most recent call last)",
      "File \u001B[1;32mC:\\Python312\\Lib\\site-packages\\ndlib\\models\\DiffusionModel.py:358\u001B[0m, in \u001B[0;36mDiffusionModel.build_trends\u001B[1;34m(self, iterations)\u001B[0m\n\u001B[0;32m    357\u001B[0m \u001B[38;5;28;01mtry\u001B[39;00m:\n\u001B[1;32m--> 358\u001B[0m     status_delta[st]\u001B[38;5;241m.\u001B[39mappend(\u001B[43mit\u001B[49m\u001B[43m[\u001B[49m\u001B[38;5;124;43m'\u001B[39;49m\u001B[38;5;124;43mstatus_delta\u001B[39;49m\u001B[38;5;124;43m'\u001B[39;49m\u001B[43m]\u001B[49m[st])\n\u001B[0;32m    359\u001B[0m     node_count[st]\u001B[38;5;241m.\u001B[39mappend(it[\u001B[38;5;124m'\u001B[39m\u001B[38;5;124mnode_count\u001B[39m\u001B[38;5;124m'\u001B[39m][st])\n",
      "\u001B[1;31mTypeError\u001B[0m: tuple indices must be integers or slices, not str",
      "\nDuring handling of the above exception, another exception occurred:\n",
      "\u001B[1;31mTypeError\u001B[0m                                 Traceback (most recent call last)",
      "Cell \u001B[1;32mIn[1], line 28\u001B[0m\n\u001B[0;32m     26\u001B[0m \u001B[38;5;66;03m# Simulation execution\u001B[39;00m\n\u001B[0;32m     27\u001B[0m iterations \u001B[38;5;241m=\u001B[39m model\u001B[38;5;241m.\u001B[39miteration_bunch(\u001B[38;5;241m200\u001B[39m)\n\u001B[1;32m---> 28\u001B[0m trends \u001B[38;5;241m=\u001B[39m \u001B[43mmodel\u001B[49m\u001B[38;5;241;43m.\u001B[39;49m\u001B[43mbuild_trends\u001B[49m\u001B[43m(\u001B[49m\u001B[43miterations\u001B[49m\u001B[43m)\u001B[49m\n\u001B[0;32m     30\u001B[0m \u001B[38;5;66;03m# %matplotlib inline\u001B[39;00m\n\u001B[0;32m     31\u001B[0m \u001B[38;5;66;03m# viz = DiffusionTrend(model, trends)\u001B[39;00m\n\u001B[0;32m     32\u001B[0m \u001B[38;5;66;03m# viz.plot()\u001B[39;00m\n\u001B[0;32m     33\u001B[0m \u001B[38;5;66;03m# viz = DiffusionPrevalence(model, trends)\u001B[39;00m\n\u001B[0;32m     34\u001B[0m \u001B[38;5;66;03m# viz.plot()\u001B[39;00m\n",
      "File \u001B[1;32mC:\\Python312\\Lib\\site-packages\\ndlib\\models\\DiffusionModel.py:361\u001B[0m, in \u001B[0;36mDiffusionModel.build_trends\u001B[1;34m(self, iterations)\u001B[0m\n\u001B[0;32m    359\u001B[0m             node_count[st]\u001B[38;5;241m.\u001B[39mappend(it[\u001B[38;5;124m'\u001B[39m\u001B[38;5;124mnode_count\u001B[39m\u001B[38;5;124m'\u001B[39m][st])\n\u001B[0;32m    360\u001B[0m         \u001B[38;5;28;01mexcept\u001B[39;00m:\n\u001B[1;32m--> 361\u001B[0m             status_delta[st]\u001B[38;5;241m.\u001B[39mappend(\u001B[43mit\u001B[49m\u001B[43m[\u001B[49m\u001B[38;5;124;43m'\u001B[39;49m\u001B[38;5;124;43mstatus_delta\u001B[39;49m\u001B[38;5;124;43m'\u001B[39;49m\u001B[43m]\u001B[49m[\u001B[38;5;28mstr\u001B[39m(st)])\n\u001B[0;32m    362\u001B[0m             node_count[st]\u001B[38;5;241m.\u001B[39mappend(it[\u001B[38;5;124m'\u001B[39m\u001B[38;5;124mnode_count\u001B[39m\u001B[38;5;124m'\u001B[39m][\u001B[38;5;28mstr\u001B[39m(st)])\n\u001B[0;32m    364\u001B[0m \u001B[38;5;28;01mreturn\u001B[39;00m [{\u001B[38;5;124m\"\u001B[39m\u001B[38;5;124mtrends\u001B[39m\u001B[38;5;124m\"\u001B[39m: {\u001B[38;5;124m\"\u001B[39m\u001B[38;5;124mnode_count\u001B[39m\u001B[38;5;124m\"\u001B[39m: node_count, \u001B[38;5;124m\"\u001B[39m\u001B[38;5;124mstatus_delta\u001B[39m\u001B[38;5;124m\"\u001B[39m: status_delta}}]\n",
      "\u001B[1;31mTypeError\u001B[0m: tuple indices must be integers or slices, not str"
     ]
    }
   ],
   "execution_count": 1
  },
  {
   "metadata": {},
   "cell_type": "code",
   "outputs": [],
   "execution_count": null,
   "source": "",
   "id": "a8bc8019175b4005"
  }
 ],
 "metadata": {
  "kernelspec": {
   "display_name": "Python 3",
   "language": "python",
   "name": "python3"
  },
  "language_info": {
   "codemirror_mode": {
    "name": "ipython",
    "version": 2
   },
   "file_extension": ".py",
   "mimetype": "text/x-python",
   "name": "python",
   "nbconvert_exporter": "python",
   "pygments_lexer": "ipython2",
   "version": "2.7.6"
  }
 },
 "nbformat": 4,
 "nbformat_minor": 5
}
