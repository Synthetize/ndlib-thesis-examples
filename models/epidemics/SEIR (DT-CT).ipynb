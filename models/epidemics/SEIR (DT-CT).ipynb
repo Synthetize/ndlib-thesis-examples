{
 "cells": [
  {
   "cell_type": "markdown",
   "id": "5a8da1e7-3d47-40de-b714-3c6c56d5c2b2",
   "metadata": {},
   "source": [
    "# a"
   ]
  },
  {
   "cell_type": "code",
   "id": "initial_id",
   "metadata": {
    "ExecuteTime": {
     "end_time": "2024-05-07T07:54:23.513382Z",
     "start_time": "2024-05-07T07:54:23.150014Z"
    }
   },
   "source": [
    "'''\n",
    "SEIR assumes that if, during a generic iteration, a susceptible node comes into contact with an \n",
    "infected one, it becomes infected after an exposition period with probability beta, than it can \n",
    "switch to removed with probability gamma (the only transition allowed are S→E→I→R).\n",
    "\n",
    "DT - This implementation assumes discrete time dynamics for the E->I and I->R transitions.\n",
    "CT - This implementation assumes continuous time dynamics for the E->I and I->R transitions.\n",
    "\n",
    "Statuses/Codes:\n",
    "    - S: Susceptible | 0\n",
    "    - E: Exposed | 1\n",
    "    - I: Infected | 2\n",
    "    - R: Removed | 3\n",
    "\n",
    "Parameters:\n",
    "    - beta: infection probability (float in [0,1])\n",
    "    - gamma: recovery probability (float in [0,1]) \n",
    "    - alpha: incubation period (float in [0,1])\n",
    "    \n",
    "Notes:\n",
    "    - quanto è il tempo di esposizione?\n",
    "'''\n",
    "\n",
    "import networkx as nx\n",
    "import ndlib.models.ModelConfig as mc\n",
    "import ndlib.models.epidemics as ep\n",
    "from ndlib.viz.mpl.DiffusionTrend import DiffusionTrend\n",
    "from ndlib.viz.mpl.DiffusionPrevalence import DiffusionPrevalence\n",
    "\n",
    "# Network topology\n",
    "g = nx.erdos_renyi_graph(1000, 0.1)\n",
    "\n",
    "# Model selection\n",
    "seirDT_model = ep.SEIRModel(g)\n",
    "\n",
    "# Model Configuration\n",
    "config = mc.Configuration()\n",
    "config.add_model_parameter('beta', 0.01) # infection rate 1%\n",
    "config.add_model_parameter('gamma', 0.005) # recovery rate 0.5%   \n",
    "config.add_model_parameter('alpha', 0.05) # incubation rate 5%\n",
    "config.add_model_parameter(\"fraction_infected\", 0.05) # initial fraction of infected nodes 5%\n",
    "seirDT_model.set_initial_status(config)\n",
    "\n",
    "# Simulation execution\n",
    "iterations = seirDT_model.iteration_bunch(200)\n",
    "seirDT_trends = seirDT_model.build_trends(iterations)\n",
    "print(seirDT_model.get_info())\n",
    "\n",
    "%matplotlib inline\n",
    "viz = DiffusionTrend(seirDT_model, seirDT_trends)\n",
    "viz.plot()\n",
    "\n",
    "viz = DiffusionPrevalence(seirDT_model, seirDT_trends)\n",
    "viz.plot()"
   ],
   "outputs": [
    {
     "ename": "TypeError",
     "evalue": "Configuration.add_edge_configuration() missing 1 required positional argument: 'param_value'",
     "output_type": "error",
     "traceback": [
      "\u001B[1;31m---------------------------------------------------------------------------\u001B[0m",
      "\u001B[1;31mTypeError\u001B[0m                                 Traceback (most recent call last)",
      "Cell \u001B[1;32mIn[2], line 42\u001B[0m\n\u001B[0;32m     40\u001B[0m config\u001B[38;5;241m.\u001B[39madd_model_parameter(\u001B[38;5;124m'\u001B[39m\u001B[38;5;124malpha\u001B[39m\u001B[38;5;124m'\u001B[39m, \u001B[38;5;241m0.05\u001B[39m) \u001B[38;5;66;03m# incubation rate 5%\u001B[39;00m\n\u001B[0;32m     41\u001B[0m config\u001B[38;5;241m.\u001B[39madd_model_parameter(\u001B[38;5;124m\"\u001B[39m\u001B[38;5;124mfraction_infected\u001B[39m\u001B[38;5;124m\"\u001B[39m, \u001B[38;5;241m0.05\u001B[39m) \u001B[38;5;66;03m# initial fraction of infected nodes 5%\u001B[39;00m\n\u001B[1;32m---> 42\u001B[0m \u001B[43mconfig\u001B[49m\u001B[38;5;241;43m.\u001B[39;49m\u001B[43madd_edge_configuration\u001B[49m\u001B[43m(\u001B[49m\u001B[38;5;124;43m\"\u001B[39;49m\u001B[38;5;124;43mthreshold\u001B[39;49m\u001B[38;5;124;43m\"\u001B[39;49m\u001B[43m,\u001B[49m\u001B[43m \u001B[49m\u001B[38;5;241;43m0.1\u001B[39;49m\u001B[43m)\u001B[49m \u001B[38;5;66;03m# edge threshold 10%\u001B[39;00m\n\u001B[0;32m     43\u001B[0m seirDT_model\u001B[38;5;241m.\u001B[39mset_initial_status(config)\n\u001B[0;32m     45\u001B[0m \u001B[38;5;66;03m# Simulation execution\u001B[39;00m\n",
      "\u001B[1;31mTypeError\u001B[0m: Configuration.add_edge_configuration() missing 1 required positional argument: 'param_value'"
     ]
    }
   ],
   "execution_count": 2
  },
  {
   "cell_type": "code",
   "execution_count": 1,
   "id": "abcbc06c3d3367de",
   "metadata": {
    "ExecuteTime": {
     "end_time": "2024-04-13T13:56:32.770800Z",
     "start_time": "2024-04-13T13:56:32.768791Z"
    }
   },
   "outputs": [],
   "source": []
  },
  {
   "cell_type": "code",
   "execution_count": null,
   "id": "5440bf43cc759250",
   "metadata": {},
   "outputs": [],
   "source": []
  }
 ],
 "metadata": {
  "kernelspec": {
   "display_name": "Python 3 (ipykernel)",
   "language": "python",
   "name": "python3"
  },
  "language_info": {
   "codemirror_mode": {
    "name": "ipython",
    "version": 3
   },
   "file_extension": ".py",
   "mimetype": "text/x-python",
   "name": "python",
   "nbconvert_exporter": "python",
   "pygments_lexer": "ipython3",
   "version": "3.12.3"
  }
 },
 "nbformat": 4,
 "nbformat_minor": 5
}
