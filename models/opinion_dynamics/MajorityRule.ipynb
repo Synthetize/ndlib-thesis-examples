{
 "cells": [
  {
   "metadata": {},
   "cell_type": "code",
   "outputs": [],
   "execution_count": null,
   "source": "",
   "id": "446e6c62b64032b5"
  },
  {
   "metadata": {
    "ExecuteTime": {
     "end_time": "2024-04-16T16:38:11.812173Z",
     "start_time": "2024-04-16T16:38:11.706026Z"
    }
   },
   "cell_type": "code",
   "source": [
    "'''\n",
    "The Majority Rule model is a discrete model of opinion dynamics, proposed to describe public debates [1].\n",
    "\n",
    "Agents take discrete opinions ±1, just like the Voter model. At each time step a group of r agents is selected randomly and they all take the majority opinion within the group.\n",
    "\n",
    "The group size can be fixed or taken at each time step from a specific distribution. If r is odd, then the majority opinion is always defined, however if r is even there could be tied situations. To select a prevailing opinion in this case, a bias in favour of one opinion (+1) is introduced.\n",
    "\n",
    "This idea is inspired by the concept of social inertia [2].\n",
    "\n",
    "Statuses:\n",
    " - 0: Susceptible\n",
    " - 1: Infected\n",
    "\n",
    "Parameters:\n",
    " - q: number of neighbours\n",
    " \n",
    "Domande:\n",
    "- ma serve o no il parametro q? gemini dice di no, sulla documentazione nel codice non viene scritto ma viene indicato come parametro obbligatorio\n",
    "  e il codice non fuinziona senza di esso\n",
    " \n",
    " \n",
    "'''\n",
    "\n",
    "import networkx as nx\n",
    "import ndlib.models.ModelConfig as mc\n",
    "import ndlib.models.opinions as op\n",
    "from ndlib.viz.mpl.DiffusionTrend import DiffusionTrend\n",
    "from ndlib.viz.mpl.DiffusionPrevalence import DiffusionPrevalence\n",
    "\n",
    "# Network topology\n",
    "g = nx.erdos_renyi_graph(1000, 0.1)\n",
    "\n",
    "# Model selection\n",
    "model = op.MajorityRuleModel(g)\n",
    "config = mc.Configuration()\n",
    "#config.add_model_parameter('q', 6)\n",
    "config.add_model_parameter('fraction_infected', 0.1)\n",
    "\n",
    "model.set_initial_status(config)\n",
    "\n",
    "# Simulation execution\n",
    "iterations = model.iteration_bunch(200)\n",
    "trends = model.build_trends(iterations)\n",
    "\n",
    "%matplotlib inline\n",
    "viz = DiffusionTrend(model, trends)\n",
    "viz.plot()\n",
    "viz = DiffusionPrevalence(model, trends)\n",
    "viz.plot()"
   ],
   "id": "initial_id",
   "outputs": [
    {
     "ename": "ConfigurationException",
     "evalue": "{'message': 'Missing mandatory model parameter(s)', 'parameters': {'q'}}",
     "output_type": "error",
     "traceback": [
      "\u001B[1;31m---------------------------------------------------------------------------\u001B[0m",
      "\u001B[1;31mConfigurationException\u001B[0m                    Traceback (most recent call last)",
      "Cell \u001B[1;32mIn[6], line 33\u001B[0m\n\u001B[0;32m     30\u001B[0m \u001B[38;5;66;03m#config.add_model_parameter('q', 6)\u001B[39;00m\n\u001B[0;32m     31\u001B[0m config\u001B[38;5;241m.\u001B[39madd_model_parameter(\u001B[38;5;124m'\u001B[39m\u001B[38;5;124mfraction_infected\u001B[39m\u001B[38;5;124m'\u001B[39m, \u001B[38;5;241m0.1\u001B[39m)\n\u001B[1;32m---> 33\u001B[0m \u001B[43mmodel\u001B[49m\u001B[38;5;241;43m.\u001B[39;49m\u001B[43mset_initial_status\u001B[49m\u001B[43m(\u001B[49m\u001B[43mconfig\u001B[49m\u001B[43m)\u001B[49m\n\u001B[0;32m     35\u001B[0m \u001B[38;5;66;03m# Simulation execution\u001B[39;00m\n\u001B[0;32m     36\u001B[0m iterations \u001B[38;5;241m=\u001B[39m model\u001B[38;5;241m.\u001B[39miteration_bunch(\u001B[38;5;241m200\u001B[39m)\n",
      "File \u001B[1;32mC:\\Python312\\Lib\\site-packages\\ndlib\\models\\DiffusionModel.py:130\u001B[0m, in \u001B[0;36mDiffusionModel.set_initial_status\u001B[1;34m(self, configuration)\u001B[0m\n\u001B[0;32m    123\u001B[0m \u001B[38;5;28;01mdef\u001B[39;00m \u001B[38;5;21mset_initial_status\u001B[39m(\u001B[38;5;28mself\u001B[39m, configuration):\n\u001B[0;32m    124\u001B[0m \u001B[38;5;250m    \u001B[39m\u001B[38;5;124;03m\"\"\"\u001B[39;00m\n\u001B[0;32m    125\u001B[0m \u001B[38;5;124;03m    Set the initial model configuration\u001B[39;00m\n\u001B[0;32m    126\u001B[0m \n\u001B[0;32m    127\u001B[0m \u001B[38;5;124;03m    :param configuration: a ```ndlib.models.ModelConfig.Configuration``` object\u001B[39;00m\n\u001B[0;32m    128\u001B[0m \u001B[38;5;124;03m    \"\"\"\u001B[39;00m\n\u001B[1;32m--> 130\u001B[0m     \u001B[38;5;28;43mself\u001B[39;49m\u001B[38;5;241;43m.\u001B[39;49m\u001B[43m__validate_configuration\u001B[49m\u001B[43m(\u001B[49m\u001B[43mconfiguration\u001B[49m\u001B[43m)\u001B[49m\n\u001B[0;32m    132\u001B[0m     nodes_cfg \u001B[38;5;241m=\u001B[39m configuration\u001B[38;5;241m.\u001B[39mget_nodes_configuration()\n\u001B[0;32m    133\u001B[0m     \u001B[38;5;66;03m# Set additional node information\u001B[39;00m\n",
      "File \u001B[1;32mC:\\Python312\\Lib\\site-packages\\ndlib\\models\\DiffusionModel.py:84\u001B[0m, in \u001B[0;36mDiffusionModel.__validate_configuration\u001B[1;34m(self, configuration)\u001B[0m\n\u001B[0;32m     82\u001B[0m \u001B[38;5;28;01mif\u001B[39;00m \u001B[38;5;28mlen\u001B[39m(omp) \u001B[38;5;241m>\u001B[39m \u001B[38;5;241m0\u001B[39m:\n\u001B[0;32m     83\u001B[0m     \u001B[38;5;28;01mif\u001B[39;00m \u001B[38;5;28mlen\u001B[39m(omp \u001B[38;5;241m&\u001B[39m mdp) \u001B[38;5;241m!=\u001B[39m \u001B[38;5;28mlen\u001B[39m(omp):\n\u001B[1;32m---> 84\u001B[0m         \u001B[38;5;28;01mraise\u001B[39;00m ConfigurationException({\u001B[38;5;124m\"\u001B[39m\u001B[38;5;124mmessage\u001B[39m\u001B[38;5;124m\"\u001B[39m: \u001B[38;5;124m\"\u001B[39m\u001B[38;5;124mMissing mandatory model parameter(s)\u001B[39m\u001B[38;5;124m\"\u001B[39m, \u001B[38;5;124m\"\u001B[39m\u001B[38;5;124mparameters\u001B[39m\u001B[38;5;124m\"\u001B[39m: omp\u001B[38;5;241m-\u001B[39mmdp})\n\u001B[0;32m     86\u001B[0m \u001B[38;5;28;01mif\u001B[39;00m \u001B[38;5;28mlen\u001B[39m(onp) \u001B[38;5;241m>\u001B[39m \u001B[38;5;241m0\u001B[39m:\n\u001B[0;32m     87\u001B[0m     \u001B[38;5;28;01mif\u001B[39;00m \u001B[38;5;28mlen\u001B[39m(onp \u001B[38;5;241m&\u001B[39m ndp) \u001B[38;5;241m!=\u001B[39m \u001B[38;5;28mlen\u001B[39m(onp):\n",
      "\u001B[1;31mConfigurationException\u001B[0m: {'message': 'Missing mandatory model parameter(s)', 'parameters': {'q'}}"
     ]
    }
   ],
   "execution_count": 6
  },
  {
   "metadata": {},
   "cell_type": "code",
   "outputs": [],
   "execution_count": null,
   "source": "",
   "id": "2ad815a5edcc3d26"
  }
 ],
 "metadata": {
  "kernelspec": {
   "display_name": "Python 3",
   "language": "python",
   "name": "python3"
  },
  "language_info": {
   "codemirror_mode": {
    "name": "ipython",
    "version": 2
   },
   "file_extension": ".py",
   "mimetype": "text/x-python",
   "name": "python",
   "nbconvert_exporter": "python",
   "pygments_lexer": "ipython2",
   "version": "2.7.6"
  }
 },
 "nbformat": 4,
 "nbformat_minor": 5
}
