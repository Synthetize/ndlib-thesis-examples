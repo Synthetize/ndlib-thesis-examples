{
 "cells": [
  {
   "cell_type": "code",
   "id": "initial_id",
   "metadata": {
    "collapsed": true,
    "ExecuteTime": {
     "end_time": "2024-04-17T08:44:46.274852Z",
     "start_time": "2024-04-17T08:44:44.635278Z"
    }
   },
   "source": [
    "import networkx as nx\n",
    "import ndlib.models.ModelConfig as mc\n",
    "import ndlib.models.opinions as opn\n",
    "from ndlib.viz.mpl.DiffusionTrend import DiffusionTrend\n",
    "from ndlib.viz.mpl.DiffusionPrevalence import DiffusionPrevalence\n",
    "\n",
    "# Network topology\n",
    "g = nx.erdos_renyi_graph(1000, 0.1)\n",
    "\n",
    "# Model selection\n",
    "model = opn.WHKModel(g)\n",
    "\n",
    "# Model Configuration\n",
    "config = mc.Configuration()\n",
    "config.add_model_parameter(\"epsilon\", 0.32)\n",
    "\n",
    "# Setting the edge parameters\n",
    "weight = 0.2\n",
    "if isinstance(g, nx.Graph):\n",
    "    edges = g.edges\n",
    "else:\n",
    "    edges = [(g.vs[e.tuple[0]]['name'], g.vs[e.tuple[1]]['name']) for e in g.es]\n",
    "\n",
    "for e in edges:\n",
    "    config.add_edge_configuration(\"weight\", e, weight)\n",
    "\n",
    "\n",
    "model.set_initial_status(config)\n",
    "\n",
    "# Simulation execution\n",
    "iterations = model.iteration_bunch(20)\n",
    "\n"
   ],
   "outputs": [],
   "execution_count": 6
  },
  {
   "metadata": {},
   "cell_type": "code",
   "outputs": [],
   "execution_count": null,
   "source": "",
   "id": "d611297c5458febd"
  }
 ],
 "metadata": {
  "kernelspec": {
   "display_name": "Python 3",
   "language": "python",
   "name": "python3"
  },
  "language_info": {
   "codemirror_mode": {
    "name": "ipython",
    "version": 2
   },
   "file_extension": ".py",
   "mimetype": "text/x-python",
   "name": "python",
   "nbconvert_exporter": "python",
   "pygments_lexer": "ipython2",
   "version": "2.7.6"
  }
 },
 "nbformat": 4,
 "nbformat_minor": 5
}
