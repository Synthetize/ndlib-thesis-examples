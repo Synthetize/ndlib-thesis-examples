{
 "cells": [
  {
   "cell_type": "code",
   "id": "initial_id",
   "metadata": {
    "collapsed": true,
    "ExecuteTime": {
     "end_time": "2024-04-17T08:37:30.386657Z",
     "start_time": "2024-04-17T08:37:30.293602Z"
    }
   },
   "source": [
    "'''\n",
    "\n",
    "Non esiste il AlgoritmicBiasMediaModel nel modulo ndlib.models.opinions\n",
    "'''\n",
    "\n",
    "\n",
    "import networkx as nx\n",
    "import ndlib.models.ModelConfig as mc\n",
    "import ndlib.models.opinions as op\n",
    "\n",
    "# Network topology\n",
    "g = nx.erdos_renyi_graph(1000, 0.1)\n",
    "\n",
    "# Model selection\n",
    "model = op.AlgorithmicBiasMediaModel(g)\n",
    "\n",
    "# Model configuration\n",
    "config = mc.Configuration()\n",
    "config.add_model_parameter(\"epsilon\", 0.32)\n",
    "config.add_model_parameter(\"gamma\", 1)\n",
    "config.add_model_parameter(\"k\", 2)\n",
    "config.add_model_parameter(\"p\", 0.05)\n",
    "config.add_model_parameter(\"gamma_media\", 0.1)\n",
    "model.set_initial_status(config)\n",
    "\n",
    "# Simulation execution\n",
    "iterations = model.iteration_bunch(200)"
   ],
   "outputs": [
    {
     "ename": "AttributeError",
     "evalue": "module 'ndlib.models.opinions' has no attribute 'AlgorithmicBiasMediaModel'",
     "output_type": "error",
     "traceback": [
      "\u001B[1;31m---------------------------------------------------------------------------\u001B[0m",
      "\u001B[1;31mAttributeError\u001B[0m                            Traceback (most recent call last)",
      "Cell \u001B[1;32mIn[2], line 9\u001B[0m\n\u001B[0;32m      6\u001B[0m g \u001B[38;5;241m=\u001B[39m nx\u001B[38;5;241m.\u001B[39merdos_renyi_graph(\u001B[38;5;241m1000\u001B[39m, \u001B[38;5;241m0.1\u001B[39m)\n\u001B[0;32m      8\u001B[0m \u001B[38;5;66;03m# Model selection\u001B[39;00m\n\u001B[1;32m----> 9\u001B[0m model \u001B[38;5;241m=\u001B[39m \u001B[43mop\u001B[49m\u001B[38;5;241;43m.\u001B[39;49m\u001B[43mAlgorithmicBiasMediaModel\u001B[49m(g)\n\u001B[0;32m     11\u001B[0m \u001B[38;5;66;03m# Model configuration\u001B[39;00m\n\u001B[0;32m     12\u001B[0m config \u001B[38;5;241m=\u001B[39m mc\u001B[38;5;241m.\u001B[39mConfiguration()\n",
      "\u001B[1;31mAttributeError\u001B[0m: module 'ndlib.models.opinions' has no attribute 'AlgorithmicBiasMediaModel'"
     ]
    }
   ],
   "execution_count": 2
  },
  {
   "metadata": {},
   "cell_type": "code",
   "outputs": [],
   "execution_count": null,
   "source": "",
   "id": "563de934d7befdc9"
  }
 ],
 "metadata": {
  "kernelspec": {
   "display_name": "Python 3",
   "language": "python",
   "name": "python3"
  },
  "language_info": {
   "codemirror_mode": {
    "name": "ipython",
    "version": 2
   },
   "file_extension": ".py",
   "mimetype": "text/x-python",
   "name": "python",
   "nbconvert_exporter": "python",
   "pygments_lexer": "ipython2",
   "version": "2.7.6"
  }
 },
 "nbformat": 4,
 "nbformat_minor": 5
}
