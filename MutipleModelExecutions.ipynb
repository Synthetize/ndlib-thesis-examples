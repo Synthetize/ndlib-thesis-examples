{
 "cells": [
  {
   "cell_type": "code",
   "id": "initial_id",
   "metadata": {
    "collapsed": true,
    "ExecuteTime": {
     "end_time": "2024-05-14T15:30:18.254821Z",
     "start_time": "2024-05-14T15:30:16.941339Z"
    }
   },
   "source": [
    "import networkx as nx\n",
    "import ndlib.models.ModelConfig as mc\n",
    "import ndlib.models.epidemics as ep\n",
    "from ndlib.utils import multi_runs\n",
    "\n",
    "# Network topology\n",
    "g = nx.erdos_renyi_graph(1000, 0.1)\n",
    "\n",
    "# Model selection\n",
    "model1 = ep.SIRModel(g)\n",
    "\n",
    "# Model Configuration\n",
    "config = mc.Configuration()\n",
    "config.add_model_parameter('beta', 0.001)\n",
    "config.add_model_parameter('gamma', 0.01)\n",
    "config.add_model_parameter(\"percentage_infected\", 0.05)\n",
    "model1.set_initial_status(config)\n",
    "\n",
    "# Simulation multiple execution\n",
    "infection_sets = [(1, 2, 3, 4, 5), (3, 23, 22, 54, 2), (98, 2, 12, 26, 3), (4, 6, 9) ]\n",
    "trends = multi_runs(model1, execution_number=4, iteration_number=100, infection_sets=infection_sets, nprocesses=4)"
   ],
   "outputs": [
    {
     "ename": "ValueError",
     "evalue": "Seed must be between 0 and 2**32 - 1",
     "output_type": "error",
     "traceback": [
      "\u001B[1;31m---------------------------------------------------------------------------\u001B[0m",
      "\u001B[1;31mRemoteTraceback\u001B[0m                           Traceback (most recent call last)",
      "\u001B[1;31mRemoteTraceback\u001B[0m: \n\"\"\"\nTraceback (most recent call last):\n  File \"C:\\Python312\\Lib\\multiprocessing\\pool.py\", line 125, in worker\n    result = (True, func(*args, **kwds))\n                    ^^^^^^^^^^^^^^^^^^^\n  File \"C:\\Python312\\Lib\\site-packages\\ndlib\\utils.py\", line 71, in __execute\n    np.random.seed(seed)\n  File \"numpy\\\\random\\\\mtrand.pyx\", line 4806, in numpy.random.mtrand.seed\n  File \"numpy\\\\random\\\\mtrand.pyx\", line 250, in numpy.random.mtrand.RandomState.seed\n  File \"_mt19937.pyx\", line 168, in numpy.random._mt19937.MT19937._legacy_seeding\n  File \"_mt19937.pyx\", line 182, in numpy.random._mt19937.MT19937._legacy_seeding\nValueError: Seed must be between 0 and 2**32 - 1\n\"\"\"",
      "\nThe above exception was the direct cause of the following exception:\n",
      "\u001B[1;31mValueError\u001B[0m                                Traceback (most recent call last)",
      "Cell \u001B[1;32mIn[2], line 21\u001B[0m\n\u001B[0;32m     19\u001B[0m \u001B[38;5;66;03m# Simulation multiple execution\u001B[39;00m\n\u001B[0;32m     20\u001B[0m infection_sets \u001B[38;5;241m=\u001B[39m [(\u001B[38;5;241m1\u001B[39m, \u001B[38;5;241m2\u001B[39m, \u001B[38;5;241m3\u001B[39m, \u001B[38;5;241m4\u001B[39m, \u001B[38;5;241m5\u001B[39m), (\u001B[38;5;241m3\u001B[39m, \u001B[38;5;241m23\u001B[39m, \u001B[38;5;241m22\u001B[39m, \u001B[38;5;241m54\u001B[39m, \u001B[38;5;241m2\u001B[39m), (\u001B[38;5;241m98\u001B[39m, \u001B[38;5;241m2\u001B[39m, \u001B[38;5;241m12\u001B[39m, \u001B[38;5;241m26\u001B[39m, \u001B[38;5;241m3\u001B[39m), (\u001B[38;5;241m4\u001B[39m, \u001B[38;5;241m6\u001B[39m, \u001B[38;5;241m9\u001B[39m) ]\n\u001B[1;32m---> 21\u001B[0m trends \u001B[38;5;241m=\u001B[39m \u001B[43mmulti_runs\u001B[49m\u001B[43m(\u001B[49m\u001B[43mmodel1\u001B[49m\u001B[43m,\u001B[49m\u001B[43m \u001B[49m\u001B[43mexecution_number\u001B[49m\u001B[38;5;241;43m=\u001B[39;49m\u001B[38;5;241;43m4\u001B[39;49m\u001B[43m,\u001B[49m\u001B[43m \u001B[49m\u001B[43miteration_number\u001B[49m\u001B[38;5;241;43m=\u001B[39;49m\u001B[38;5;241;43m100\u001B[39;49m\u001B[43m,\u001B[49m\u001B[43m \u001B[49m\u001B[43minfection_sets\u001B[49m\u001B[38;5;241;43m=\u001B[39;49m\u001B[43minfection_sets\u001B[49m\u001B[43m,\u001B[49m\u001B[43m \u001B[49m\u001B[43mnprocesses\u001B[49m\u001B[38;5;241;43m=\u001B[39;49m\u001B[38;5;241;43m4\u001B[39;49m\u001B[43m)\u001B[49m\n",
      "File \u001B[1;32mC:\\Python312\\Lib\\site-packages\\ndlib\\utils.py:48\u001B[0m, in \u001B[0;36mmulti_runs\u001B[1;34m(model, execution_number, iteration_number, infection_sets, nprocesses)\u001B[0m\n\u001B[0;32m     45\u001B[0m             results \u001B[38;5;241m=\u001B[39m [pool\u001B[38;5;241m.\u001B[39mapply_async(__execute, (\u001B[38;5;241m*\u001B[39mt, iteration_number)) \u001B[38;5;28;01mfor\u001B[39;00m t \u001B[38;5;129;01min\u001B[39;00m tasks]\n\u001B[0;32m     47\u001B[0m         \u001B[38;5;28;01mfor\u001B[39;00m result \u001B[38;5;129;01min\u001B[39;00m results:\n\u001B[1;32m---> 48\u001B[0m             executions\u001B[38;5;241m.\u001B[39mappend(\u001B[43mresult\u001B[49m\u001B[38;5;241;43m.\u001B[39;49m\u001B[43mget\u001B[49m\u001B[43m(\u001B[49m\u001B[43m)\u001B[49m)\n\u001B[0;32m     49\u001B[0m \u001B[38;5;28;01melse\u001B[39;00m:\n\u001B[0;32m     50\u001B[0m     \u001B[38;5;28;01mfor\u001B[39;00m x \u001B[38;5;129;01min\u001B[39;00m past\u001B[38;5;241m.\u001B[39mbuiltins\u001B[38;5;241m.\u001B[39mxrange(\u001B[38;5;241m0\u001B[39m, execution_number, nprocesses):\n",
      "File \u001B[1;32mC:\\Python312\\Lib\\multiprocessing\\pool.py:774\u001B[0m, in \u001B[0;36mApplyResult.get\u001B[1;34m(self, timeout)\u001B[0m\n\u001B[0;32m    772\u001B[0m     \u001B[38;5;28;01mreturn\u001B[39;00m \u001B[38;5;28mself\u001B[39m\u001B[38;5;241m.\u001B[39m_value\n\u001B[0;32m    773\u001B[0m \u001B[38;5;28;01melse\u001B[39;00m:\n\u001B[1;32m--> 774\u001B[0m     \u001B[38;5;28;01mraise\u001B[39;00m \u001B[38;5;28mself\u001B[39m\u001B[38;5;241m.\u001B[39m_value\n",
      "\u001B[1;31mValueError\u001B[0m: Seed must be between 0 and 2**32 - 1"
     ]
    }
   ],
   "execution_count": 2
  },
  {
   "metadata": {},
   "cell_type": "code",
   "outputs": [],
   "execution_count": null,
   "source": "",
   "id": "86d5aba653bdbebc"
  }
 ],
 "metadata": {
  "kernelspec": {
   "display_name": "Python 3",
   "language": "python",
   "name": "python3"
  },
  "language_info": {
   "codemirror_mode": {
    "name": "ipython",
    "version": 2
   },
   "file_extension": ".py",
   "mimetype": "text/x-python",
   "name": "python",
   "nbconvert_exporter": "python",
   "pygments_lexer": "ipython2",
   "version": "2.7.6"
  }
 },
 "nbformat": 4,
 "nbformat_minor": 5
}
